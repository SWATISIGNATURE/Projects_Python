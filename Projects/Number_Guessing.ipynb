{
 "cells": [
  {
   "cell_type": "markdown",
   "metadata": {},
   "source": [
    "# Number Guessing\n",
    "### Make a program which randomly chooses a number to guess and then the user will have a few chances to gumess the number correctly. In each wrong attempt, the computer will give a hint that the number is greater or smaller than the one you have guessed."
   ]
  },
  {
   "cell_type": "code",
   "execution_count": 8,
   "metadata": {},
   "outputs": [
    {
     "name": "stdout",
     "output_type": "stream",
     "text": [
      "Please enter your guess. The number should be between 1 to 10 inclusive.4\n",
      "Guessed number is less than real num , please try a higher value.\n",
      "Please enter your guess. The number should be between 1 to 10 inclusive.6\n",
      "Guessed number is less than real num , please try a higher value.\n",
      "Please enter your guess. The number should be between 1 to 10 inclusive.7\n",
      "Guessed number is less than real num , please try a higher value.\n",
      "Please enter your guess. The number should be between 1 to 10 inclusive.8\n",
      "Guessed number is less than real num , please try a higher value.\n",
      "Please enter your guess. The number should be between 1 to 10 inclusive.9\n",
      "Guessed number is less than real num , please try a higher value.\n",
      "Please enter your guess. The number should be between 1 to 10 inclusive.10\n",
      "Yeah !!! you guessed it right :-)\n"
     ]
    }
   ],
   "source": [
    "import random\n",
    "\n",
    "lst = range(1,11)\n",
    "num = random.choice(lst)\n",
    "\n",
    "def guess_number(num):\n",
    "    while True:\n",
    "        guessed_num = int(input(\"Please enter your guess. The number should be between 1 to 10 inclusive.\"))\n",
    "        if guessed_num < num:\n",
    "            print(\"Guessed number is less than real num , please try a higher value.\")\n",
    "        elif guessed_num > num:\n",
    "            print(\"Guessed number is higher than real num , please try a lower value.\")\n",
    "        else:\n",
    "            print(\"Yeah !!! you guessed it right :-)\")\n",
    "            break\n",
    "\n",
    "guess_number(num)"
   ]
  },
  {
   "cell_type": "code",
   "execution_count": null,
   "metadata": {},
   "outputs": [],
   "source": []
  }
 ],
 "metadata": {
  "kernelspec": {
   "display_name": "Python 3",
   "language": "python",
   "name": "python3"
  },
  "language_info": {
   "codemirror_mode": {
    "name": "ipython",
    "version": 3
   },
   "file_extension": ".py",
   "mimetype": "text/x-python",
   "name": "python",
   "nbconvert_exporter": "python",
   "pygments_lexer": "ipython3",
   "version": "3.7.1"
  }
 },
 "nbformat": 4,
 "nbformat_minor": 2
}
