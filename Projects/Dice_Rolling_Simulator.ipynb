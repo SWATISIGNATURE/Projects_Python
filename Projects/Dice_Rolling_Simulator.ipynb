{
 "cells": [
  {
   "cell_type": "markdown",
   "metadata": {},
   "source": [
    "# Dice Rolling Simulator in Python\n",
    "\n",
    "### The dice rolling simulator will imitate the experience of rolling a dice. It will generate a random number and the user can play again and again to get a number from the dice until the user decides to quit the program"
   ]
  },
  {
   "cell_type": "code",
   "execution_count": 2,
   "metadata": {},
   "outputs": [
    {
     "name": "stdout",
     "output_type": "stream",
     "text": [
      "Rolling .. Rolling...\n",
      "3\n",
      "Still want to roll ? :yes\n",
      "Rolling .. Rolling...\n",
      "4\n",
      "Still want to roll ? :y\n",
      "Rolling .. Rolling...\n",
      "6\n",
      "Still want to roll ? :quit\n",
      "GoodBye! See you soon\n"
     ]
    }
   ],
   "source": [
    "import random\n",
    "\n",
    "roll = \"yes\"\n",
    "\n",
    "dice_nums = range(1,7)\n",
    "while roll == \"yes\" or roll == \"y\":\n",
    "    print(\"Rolling .. Rolling...\")\n",
    "    print(random.choice(dice_nums))\n",
    "    roll = input(\"Still want to roll ? :\")\n",
    "\n",
    "if roll == \"quit\":\n",
    "    print(\"GoodBye! See you soon\")\n"
   ]
  },
  {
   "cell_type": "code",
   "execution_count": null,
   "metadata": {},
   "outputs": [],
   "source": []
  }
 ],
 "metadata": {
  "kernelspec": {
   "display_name": "Python 3",
   "language": "python",
   "name": "python3"
  },
  "language_info": {
   "codemirror_mode": {
    "name": "ipython",
    "version": 3
   },
   "file_extension": ".py",
   "mimetype": "text/x-python",
   "name": "python",
   "nbconvert_exporter": "python",
   "pygments_lexer": "ipython3",
   "version": "3.7.1"
  }
 },
 "nbformat": 4,
 "nbformat_minor": 2
}
