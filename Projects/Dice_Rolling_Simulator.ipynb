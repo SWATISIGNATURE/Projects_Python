{
 "cells": [
  {
   "cell_type": "markdown",
   "metadata": {},
   "source": [
    "# Dice Rolling Simulator in Python\n",
    "\n",
    "### The dice rolling simulator will imitate the experience of rolling a dice. It will generate a random number and the user can play again and again to get a number from the dice until the user decides to quit the program"
   ]
  },
  {
   "cell_type": "code",
   "execution_count": 1,
   "metadata": {},
   "outputs": [
    {
     "name": "stdout",
     "output_type": "stream",
     "text": [
      "Lets start rolling the dice, start rolling :2\n",
      "Roll the dice again :3\n",
      "Roll the dice again :4\n",
      "Roll the dice again :quit\n",
      "Goodbye ! See you soon\n"
     ]
    }
   ],
   "source": [
    "entry = input(\"Lets start rolling the dice, start rolling :\")\n",
    "while entry != 'quit':\n",
    "    entry = input(\"Roll the dice again :\")\n",
    "if entry == 'quit':\n",
    "    print(\"Goodbye ! See you soon\")"
   ]
  },
  {
   "cell_type": "code",
   "execution_count": null,
   "metadata": {},
   "outputs": [],
   "source": []
  }
 ],
 "metadata": {
  "kernelspec": {
   "display_name": "Python 3",
   "language": "python",
   "name": "python3"
  },
  "language_info": {
   "codemirror_mode": {
    "name": "ipython",
    "version": 3
   },
   "file_extension": ".py",
   "mimetype": "text/x-python",
   "name": "python",
   "nbconvert_exporter": "python",
   "pygments_lexer": "ipython3",
   "version": "3.7.1"
  }
 },
 "nbformat": 4,
 "nbformat_minor": 2
}
