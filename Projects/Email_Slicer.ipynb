{
 "cells": [
  {
   "cell_type": "markdown",
   "metadata": {},
   "source": [
    "# Email Slicer\n",
    "## The email slicer is a handy program to get the username and domain name from an email address. You can customize and send a message to the user with this information."
   ]
  },
  {
   "cell_type": "code",
   "execution_count": 7,
   "metadata": {},
   "outputs": [
    {
     "name": "stdout",
     "output_type": "stream",
     "text": [
      "Please enter an email address: swati@gmail.com\n",
      "\n",
      "    Hi swati,\n",
      "    \n",
      "    This is a test mail to you.We found your user name: \"swati\" and domain is \"gmail.com\" \n"
     ]
    }
   ],
   "source": [
    "email = input(\"Please enter an email address: \")\n",
    "username, domain = email.split(\"@\")[0], email.split(\"@\")[1]\n",
    "\n",
    "def send_mail(username):\n",
    "    print(f\"\"\"\n",
    "    Hi {username},\n",
    "    \n",
    "    This is a test mail to you.We found your user name: \"{username}\" and domain is \"{domain}\" \"\"\")\n",
    "send_mail(username)"
   ]
  },
  {
   "cell_type": "code",
   "execution_count": null,
   "metadata": {},
   "outputs": [],
   "source": []
  }
 ],
 "metadata": {
  "kernelspec": {
   "display_name": "Python 3",
   "language": "python",
   "name": "python3"
  },
  "language_info": {
   "codemirror_mode": {
    "name": "ipython",
    "version": 3
   },
   "file_extension": ".py",
   "mimetype": "text/x-python",
   "name": "python",
   "nbconvert_exporter": "python",
   "pygments_lexer": "ipython3",
   "version": "3.7.1"
  }
 },
 "nbformat": 4,
 "nbformat_minor": 2
}
