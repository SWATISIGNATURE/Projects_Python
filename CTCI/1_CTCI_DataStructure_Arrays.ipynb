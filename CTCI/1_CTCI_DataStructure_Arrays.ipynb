{
 "cells": [
  {
   "cell_type": "markdown",
   "metadata": {},
   "source": [
    "# ArrayList"
   ]
  },
  {
   "cell_type": "code",
   "execution_count": null,
   "metadata": {},
   "outputs": [],
   "source": [
    "# Q1. Is Unique: Implement an algorithm to determine if a string has all unique characters. What if youcannot use additional data structures? "
   ]
  },
  {
   "cell_type": "code",
   "execution_count": null,
   "metadata": {},
   "outputs": [],
   "source": [
    "\n",
    "class Solution:\n",
    "    #Approach 1 :using 2 pointers \n",
    "    #Time : O(n**2)\n",
    "    #Space : O(1)\n",
    "    def isUnique(self,in_str):\n",
    "        input_str = str(in_str)\n",
    "        num = len(input_str)\n",
    "        if input_str and num != 0:\n",
    "            isunique = True\n",
    "            for i in range(num):\n",
    "                j = i+1\n",
    "                while j < num:\n",
    "                    if input_str[i] == input_str[j]:\n",
    "                        #print(\"same\")\n",
    "                        isunique = False\n",
    "                        break\n",
    "                    else:\n",
    "                        j+=1\n",
    "        else:\n",
    "            return False\n",
    "        return isunique\n",
    "    \n",
    "    #Approach 2 :using another list\n",
    "    #Time : O(n)\n",
    "    #Space : O(n)\n",
    "    def isUnique2(self,in_str):\n",
    "        input_str = str(in_str)\n",
    "        temp = []\n",
    "        flag = True\n",
    "        for i in input_str:\n",
    "            if i not in temp:\n",
    "                temp.append(i)\n",
    "                flag = True\n",
    "            else:\n",
    "                flag = False\n",
    "                break\n",
    "        return flag\n",
    "    \n",
    "    #Approach 3 :using Counter from collections\n",
    "    #Time : O(n)\n",
    "    #Space : O(n)\n",
    "    def isUnique3(self,in_str):\n",
    "        input_list = list(str(in_str))\n",
    "        flag = True\n",
    "        from collections import Counter\n",
    "        print(Counter(input_list))\n",
    "        for val in Counter(input_list).values():\n",
    "            if val > 1:\n",
    "                flag = False\n",
    "                break\n",
    "            else:\n",
    "                flag = True\n",
    "        return flag\n",
    "                \n",
    "    #Approach 4 : using sort and then compare\n",
    "    # Time: O(nlogn)\n",
    "    # Space : O(n)\n",
    "    def isUnique4(self,in_str):\n",
    "        lst = list(str(in_str))\n",
    "        sorted_lst =sorted(lst) #O(nlogn)\n",
    "        print(sorted_lst)\n",
    "        for i in range(len(sorted_lst)-1): #O(n)\n",
    "            if sorted_lst[i] == sorted_lst[i+1]:\n",
    "                return False\n",
    "            else:\n",
    "                return True\n",
    "    \n",
    "    #Approach 5 : using Char_set \n",
    "    # Time: O(n)\n",
    "    # Space : O(n)\n",
    "    def isUnique5(string):\n",
    "        # Assuming character set is ASCII (128 characters)\n",
    "        if len(string) > 128:\n",
    "            return False\n",
    "\n",
    "        char_set = [False for _ in range(128)]\n",
    "        for char in string:\n",
    "            val = ord(char)\n",
    "            if char_set[val]:\n",
    "                # Char already found in string\n",
    "                return False\n",
    "            char_set[val] = True\n",
    "\n",
    "        return True\n",
    "\n",
    "    "
   ]
  },
  {
   "cell_type": "code",
   "execution_count": null,
   "metadata": {},
   "outputs": [],
   "source": [
    "#A = 44\n",
    "#A=117\n",
    "#A = 132\n",
    "#A = 'abca'\n",
    "#Solution().isUnique(A)\n",
    "#Solution().isUnique2(A)\n",
    "#Solution().isUnique3(A)\n",
    "Solution().isUnique4(A)"
   ]
  },
  {
   "cell_type": "code",
   "execution_count": null,
   "metadata": {},
   "outputs": [],
   "source": [
    "# Q2. Check Permutation: Given two strings, write a method to decide if one is a permutation of the other. "
   ]
  },
  {
   "cell_type": "code",
   "execution_count": null,
   "metadata": {},
   "outputs": [],
   "source": [
    "class Solution:\n",
    "    #Approach 1: sorting the strings and then comparing\n",
    "    #Time : O(nlogn)\n",
    "    #Space : O(n) \n",
    "    def checkPermutation(self,str1,str2):\n",
    "        if len(str1) == len(str2):\n",
    "            #print(''.join(sorted(list(str2))))\n",
    "            if str1.lower() == ''.join(sorted(list(str2))).lower():\n",
    "                return True\n",
    "            else:\n",
    "                return False\n",
    "        else:\n",
    "            return False\n",
    "    \n",
    "    #Approach 2 : count the number of occurences of each letter\n",
    "    def checkPermutation2(self,str1,str2):\n",
    "        from collections import Counter\n",
    "        if Counter(str1) == Counter(str2):\n",
    "            return True\n",
    "        else:\n",
    "            return False\n",
    "        \n",
    "    #Approach 3: using Counter the Gayle method\n",
    "    def checkPermutation3(str1, str2):\n",
    "        if len(str1) != len(str2):\n",
    "            return False\n",
    "        counter = Counter()\n",
    "        for c in str1:\n",
    "            counter[c] += 1\n",
    "        for c in str2:\n",
    "            if counter[c] == 0:\n",
    "                return False\n",
    "            counter[c] -= 1\n",
    "        return True"
   ]
  },
  {
   "cell_type": "code",
   "execution_count": null,
   "metadata": {},
   "outputs": [],
   "source": [
    "s1 = 'ABC'\n",
    "s2 = 'CAB'\n",
    "Solution().checkPermutation2(s1,s2)"
   ]
  },
  {
   "cell_type": "code",
   "execution_count": null,
   "metadata": {},
   "outputs": [],
   "source": [
    "# Q3. Write a method to replace all spaces in a string with '%20'. You may assume that the string has sufficient space at the end to hold the additional characters and that you are given the true length of the string.\n",
    "\n",
    "\"\"\"Example:\n",
    "\n",
    "Input: \"Mr_John_Smith____ \", 13\n",
    "Output: \"Mr%20John%20Smith\"\n",
    "\n",
    "Note: I am using '_' to represent spaces above because I could not get spaces to format nicely.\"\"\"\n"
   ]
  },
  {
   "cell_type": "code",
   "execution_count": 97,
   "metadata": {},
   "outputs": [],
   "source": [
    "class Solution:\n",
    "    #Approach 1: using reverse string method \n",
    "    #Time : O(n)\n",
    "    #Space : O(n)\n",
    "    def urlify1(self,in_string, in_string_length):\n",
    "        in_string = list(in_string)\n",
    "        for position, character in reversed(list(enumerate(in_string[0:in_string_length]))):\n",
    "            if character == ' ':\n",
    "                #print(in_string)\n",
    "                in_string[position + 3:in_string_length + 2] = in_string[position + 1:in_string_length]\n",
    "                \n",
    "                in_string[position:position + 3] = '%20'\n",
    "                #print(in_string)\n",
    "                in_string_length += 2\n",
    "        return ''.join(in_string)\n",
    "    \n",
    "    #Approach 2: using replace function => O(n)\n",
    "    #Time : O(n)\n",
    "    #Space : O(n)\n",
    "    def urlify2(self,in_string,in_string_length):\n",
    "        return A[0:in_string_length].replace(' ','%20')\n",
    "    \n",
    "    \n"
   ]
  },
  {
   "cell_type": "code",
   "execution_count": 98,
   "metadata": {},
   "outputs": [
    {
     "data": {
      "text/plain": [
       "'Mr%203ohn%20Smith'"
      ]
     },
     "execution_count": 98,
     "metadata": {},
     "output_type": "execute_result"
    }
   ],
   "source": [
    "A = \"Mr 3ohn Smith   \"\n",
    "num = 13\n",
    "\n",
    "Solution().urlify1(A,num)\n",
    "Solution().urlify2(A,num)"
   ]
  },
  {
   "cell_type": "code",
   "execution_count": 89,
   "metadata": {},
   "outputs": [],
   "source": [
    "# Q3. Palindrome Permutation: Given a string, write a function to check if it is a permutation of a palindrome. A palindrome is a word or phrase that is the same forwards and backwards. A permutation\n",
    "#is a rearrangement of letters. The palindrome does not need to be limited to just dictionary words. "
   ]
  },
  {
   "cell_type": "code",
   "execution_count": 106,
   "metadata": {},
   "outputs": [],
   "source": [
    "class Solution:\n",
    "    #Approach 1 : using Counters \n",
    "    #Time : O(n)\n",
    "    #Space : O(n)\n",
    "    def checkPalindrome(self, input_str):\n",
    "        from collections import Counter\n",
    "        my_map = Counter(input_str)\n",
    "        print(my_map)\n",
    "        count = 0\n",
    "        for k,v in my_map.items():\n",
    "            if v%2 != 0:\n",
    "                count += 1\n",
    "        if count > 1:\n",
    "            return False\n",
    "        else:\n",
    "            return True\n",
    "        \n",
    "    #Approach 2 : using Dictionary \n",
    "    #Time : O(n)\n",
    "    #Space : O(n)\n",
    "    def checkPalindrome2(self,input_str):\n",
    "        counts_dic = {}\n",
    "        count = 0\n",
    "        for i in input_str:\n",
    "            if i not in counts_dic:\n",
    "                counts_dic[i]=input_str.count(i)\n",
    "        \n",
    "        for k,v in counts_dic.items():\n",
    "            if v%2 != 0:\n",
    "                count += 1\n",
    "        if count > 1:\n",
    "            return False\n",
    "        else:\n",
    "            return True\n",
    "        \n"
   ]
  },
  {
   "cell_type": "code",
   "execution_count": 107,
   "metadata": {},
   "outputs": [
    {
     "name": "stdout",
     "output_type": "stream",
     "text": [
      "Counter({'b': 2, 'c': 2, 'a': 1})\n"
     ]
    },
    {
     "data": {
      "text/plain": [
       "True"
      ]
     },
     "execution_count": 107,
     "metadata": {},
     "output_type": "execute_result"
    }
   ],
   "source": [
    "input_str = \"abcbc\"\n",
    "Solution().checkPalindrome(input_str)\n",
    "#Solution().checkPalindrome2(input_str)"
   ]
  },
  {
   "cell_type": "code",
   "execution_count": null,
   "metadata": {},
   "outputs": [],
   "source": [
    "# Q4. Given 2 Strings write a function to check if they are 1 edit away. There are three type of edits\n",
    "\n",
    "1) Insert a character\n",
    "\n",
    "2) Remove a character\n",
    "\n",
    "3) Replace a character"
   ]
  },
  {
   "cell_type": "code",
   "execution_count": 112,
   "metadata": {},
   "outputs": [],
   "source": [
    "#Below solution is an approach but not working. \n",
    "#refer to https://github.com/careercup/CtCI-6th-Edition-Python/blob/master/Chapter1/5_One%20Away/OneAway.py\n",
    "    \n",
    "class Solution:\n",
    "    def oneAway(self,s1,s2):\n",
    "        dict_temp = {}\n",
    "        count = 0\n",
    "        for i in s1:\n",
    "            if i in dict_temp:\n",
    "                dict_temp[i] += 1\n",
    "            else:\n",
    "                dict_temp[i] = 1\n",
    "        for i in s2:\n",
    "            if i in dict_temp:\n",
    "                dict_temp[i] -= 1\n",
    "                if dict_temp[i] == 0:\n",
    "                    del dict_temp[i]\n",
    "            else:\n",
    "                count += 1\n",
    "        if count > 1:\n",
    "            return False\n",
    "        if len(dict_temp) > 1:\n",
    "            return False\n",
    "        if len(dict_temp) == 0 and abs(len(s1)-len(s2)) > 1:\n",
    "            return False\n",
    "        return True"
   ]
  },
  {
   "cell_type": "code",
   "execution_count": 113,
   "metadata": {},
   "outputs": [
    {
     "data": {
      "text/plain": [
       "True"
      ]
     },
     "execution_count": 113,
     "metadata": {},
     "output_type": "execute_result"
    }
   ],
   "source": [
    "s1 = \"pale\"\n",
    "s2 = \"pled\"\n",
    "Solution().oneAway(s1,s2)"
   ]
  },
  {
   "cell_type": "code",
   "execution_count": 289,
   "metadata": {},
   "outputs": [],
   "source": [
    "#Q. String Compression: Implement a method to perform basic string compression using the counts\n",
    "#of repeated characters. For example, the string aabcccccaaa would become a2blc5a3, If the\n",
    "#\"compressed\" string would not become smaller than the original string, your method should return\n",
    "#the original string. You can assume the string has only uppercase and lowercase letters (a - z)."
   ]
  },
  {
   "cell_type": "code",
   "execution_count": 274,
   "metadata": {},
   "outputs": [],
   "source": [
    "class Solution:\n",
    "    #Approach 1 : starting from start till end\n",
    "    def compressString(self,s):\n",
    "        res = []\n",
    "        count = 1\n",
    "        num = len(s)\n",
    "        if len(s) == 0:\n",
    "            return None\n",
    "        if len(s) == 1:\n",
    "            return s\n",
    "        for i in range(num-1):\n",
    "            if s[i] == s[i+1] and (i+1)!=(num-1):\n",
    "                count += 1\n",
    "            else:\n",
    "                res.append(s[i])\n",
    "                res.append(str(count))\n",
    "                count = 1\n",
    "        \n",
    "        if s[-1] == res[-2]:\n",
    "            res[-1] = str(int(res[-1])+1)\n",
    "        else:\n",
    "            res.append(s[-1])\n",
    "            res.append(str(1))\n",
    "        \n",
    "        \n",
    "        #print(''.join(res))\n",
    "        compressedStr = ''.join(res)  # join the list into a string\n",
    "        return min(compressedStr,s)\n",
    "    \n",
    "    #Approach 2 : starting from 2nd element till end (BEST way)\n",
    "    def compressString2(self,s):\n",
    "        res = []\n",
    "        count = 1\n",
    "        num = len(s)\n",
    "        for i in range(1,num):\n",
    "            if s[i] == s[i-1]:\n",
    "                count += 1\n",
    "            else:\n",
    "                res.append(s[i-1]+str(count))\n",
    "                count = 1\n",
    "        res.append(s[-1]+str(count))\n",
    "        compressedStr = ''.join(res)\n",
    "        return min(compressedStr,s)\n",
    "        \n",
    "    ##Approach 3 : CTCI way\n",
    "    def string_compression(self,string):\n",
    "        compressed = []\n",
    "        counter = 0\n",
    "\n",
    "        for i in range(len(string)):\n",
    "            if i != 0 and string[i] != string[i - 1]:\n",
    "                compressed.append(string[i - 1] + str(counter))\n",
    "                counter = 0\n",
    "            counter += 1\n",
    "\n",
    "        # add last repeated character\n",
    "        compressed.append(string[-1] + str(counter))\n",
    "\n",
    "        # returns original string if compressed string isn't smaller\n",
    "        return min(string, ''.join(compressed), key=len)\n",
    "            \n",
    "        "
   ]
  },
  {
   "cell_type": "code",
   "execution_count": 276,
   "metadata": {},
   "outputs": [
    {
     "data": {
      "text/plain": [
       "'a3b2d2'"
      ]
     },
     "execution_count": 276,
     "metadata": {},
     "output_type": "execute_result"
    }
   ],
   "source": [
    "A = \"aaabbccd\"\n",
    "#A = \"aaaabbbbccdeee\"\n",
    "Solution().compressString(A)"
   ]
  },
  {
   "cell_type": "code",
   "execution_count": null,
   "metadata": {},
   "outputs": [],
   "source": [
    "#Q. Rotate Matrix: Given an image represented by an NxN matrix, where each pixel in the image is 4\n",
    "#bytes, write a method to rotate the image by 90 degrees. Can you do this in place? "
   ]
  },
  {
   "cell_type": "code",
   "execution_count": 283,
   "metadata": {},
   "outputs": [],
   "source": [
    "class Solution:\n",
    "    #refer to video : https://youtu.be/wJJp6QLLXYE for solution approach\n",
    "    #Time: O(n**2) as its a @D matrix\n",
    "    #Space: O(1) as its in-place\n",
    "    \n",
    "    #Clockwise - 90 degree\n",
    "    def rotateMatrix(self,Arr):\n",
    "        n = len(Arr)\n",
    "        for i in range(n//2):\n",
    "            for j in range(n-(2*i)-1):\n",
    "#                 A = Arr[i][i+j]\n",
    "#                 B = Arr[i+j][n-1-i]\n",
    "#                 C = Arr[n-1-i][n-1-i-j]\n",
    "#                 D = Arr[n-1-i-j][i]\n",
    "#                 we are trying to do => temp = A,A= D, D = C, C = B, B=temp\n",
    "                temp = Arr[i][i+j]\n",
    "                Arr[i][i+j] = Arr[n-1-i-j][i]\n",
    "                Arr[n-1-i-j][i] = Arr[n-1-i][n-1-i-j]\n",
    "                Arr[n-1-i][n-1-i-j] = Arr[i+j][n-1-i]\n",
    "                Arr[i+j][n-1-i] = temp\n",
    "        return Arr\n",
    "    \n",
    "    #Anticockwise - 90 degrees\n",
    "    def rotateMatrixAntiClockWise(self,Arr):\n",
    "        n = len(Arr)\n",
    "        for i in range(n//2):\n",
    "            for j in range(n-(2*i)-1):\n",
    "                # A = Arr[i+j][i]\n",
    "#                 B = Arr[i][n-1-i-j]\n",
    "#                 C = Arr[n-1-i-j][n-1-i]\n",
    "#                 D = Arr[n-1-i][i+j]\n",
    "#                 we are trying to do => temp = A,A= B, B = C, C = D, D=temp\n",
    "                temp = Arr[i+j][i]\n",
    "                Arr[i+j][i] = Arr[i][n-1-i-j]\n",
    "                Arr[i][n-1-i-j] = Arr[n-1-i-j][n-1-i]\n",
    "                Arr[n-1-i-j][n-1-i] = Arr[n-1-i][i+j]\n",
    "                Arr[n-1-i][i+j] = temp\n",
    "        return Arr\n",
    "        "
   ]
  },
  {
   "cell_type": "code",
   "execution_count": 287,
   "metadata": {},
   "outputs": [
    {
     "name": "stdout",
     "output_type": "stream",
     "text": [
      "Clockwise: [[13, 9, 5, 1], [14, 10, 6, 2], [15, 11, 7, 3], [16, 12, 8, 4]]\n",
      "Anticlockwise: [[1, 2, 3, 4], [5, 6, 7, 8], [9, 10, 11, 12], [13, 14, 15, 16]]\n"
     ]
    }
   ],
   "source": [
    "Arr = [[1,2,3,4],\n",
    "       [5,6,7,8],\n",
    "       [9,10,11,12],\n",
    "       [13,14,15,16]]\n",
    "print(\"Clockwise:\", Solution().rotateMatrix(Arr))\n",
    "print(\"Anticlockwise:\", Solution().rotateMatrixAntiClockWise(Arr))"
   ]
  },
  {
   "cell_type": "code",
   "execution_count": 353,
   "metadata": {},
   "outputs": [],
   "source": [
    "#Q. Zero Matrix: Write an algorithm such that if an element in an MxN matrix is 0, its entire row and\n",
    "#column are set to 0. "
   ]
  },
  {
   "cell_type": "code",
   "execution_count": 350,
   "metadata": {},
   "outputs": [],
   "source": [
    "class Solution:\n",
    "    #Time: O(n**2)\n",
    "    #Space = O(n)\n",
    "    def zeroMatrix(self,Arr):\n",
    "        m = len(Arr)\n",
    "        n = len(Arr[0])\n",
    "        temp_col = []\n",
    "        temp_row = []\n",
    "        for i in range(m):\n",
    "            for j in range(n):\n",
    "                if Arr[i][j] == 0:\n",
    "                    temp_col.append(j)\n",
    "                    temp_row.append(i)\n",
    "\n",
    "        #print(temp_row,temp_col)\n",
    "        for i in range(m):\n",
    "            for j in temp_col:\n",
    "                Arr[i][j]=0\n",
    "        for i in temp_row:\n",
    "            Arr[i] = [0]*n\n",
    "        \n",
    "        return Arr"
   ]
  },
  {
   "cell_type": "code",
   "execution_count": 352,
   "metadata": {},
   "outputs": [
    {
     "name": "stdout",
     "output_type": "stream",
     "text": [
      "[[1, 2, 3], [4, 0, 6], [7, 8, 9], [0, 11, 12]]\n"
     ]
    },
    {
     "data": {
      "text/plain": [
       "[[0, 0, 3], [0, 0, 0], [0, 0, 9], [0, 0, 0]]"
      ]
     },
     "execution_count": 352,
     "metadata": {},
     "output_type": "execute_result"
    }
   ],
   "source": [
    "A = [[1, 2, 3], [4, 0, 6], [7, 8, 9], [0, 11, 12]]\n",
    "print(A)\n",
    "Solution().zeroMatrix(A)"
   ]
  },
  {
   "cell_type": "code",
   "execution_count": null,
   "metadata": {},
   "outputs": [],
   "source": [
    "#String Rotation; Assume you have a method isSubs t rin g which checks if one word is a substring\n",
    "of another. Given two strings, si and s2, write code to check if s2 is a rotation of si using only one\n",
    "call to isSubs t rin g [e.g., \"wate r bottle \" is a rotation oP'erbottlewat"
   ]
  },
  {
   "cell_type": "code",
   "execution_count": 384,
   "metadata": {},
   "outputs": [],
   "source": [
    "class Solution:\n",
    "    #lets say isSubstring method is given\n",
    "    def isSubstring(self,substr,string):\n",
    "        if substr in string:\n",
    "            return True\n",
    "        else:\n",
    "            return False\n",
    "        \n",
    "    #Approach 1 : to find the vlaue to split with and then concatenate\n",
    "    #Time: O(n*k) => k is the time complexity for substring method\n",
    "    #Space = O(1)\n",
    "    def stringRotated(self,str1,str2):\n",
    "        if len(str1) != len(str2):\n",
    "            return False\n",
    "        else:\n",
    "            str_len = len(str1)\n",
    "            temp =\"\"\n",
    "            for i in range(1,str_len):\n",
    "                if self.isSubstring(str2[0:i],str1):\n",
    "                    temp = str2[0:i]\n",
    "            j = str1.find(temp)\n",
    "            if (str1[j:(str_len)] + str1[0:j]) == str2:\n",
    "                return True\n",
    "            else:\n",
    "                return False\n",
    "    \n",
    "    #Approach 2 : CTCI way and the BEST Way\n",
    "    #lets say => x= \"wat\", y=\"erbottle\" => s1 = xy and s2 =yx\n",
    "    # s2(yx) will always be a substring of s1+s1(xyxy)\n",
    "    # Time: O(k) i.e. time complexity of O(n)\n",
    "    \n",
    "    def stringRotated2(self,str1,str2):\n",
    "        if len(str1) != len(str2):\n",
    "            return False\n",
    "        else:\n",
    "            return self.isSubstring(str1,(str2+str2))\n",
    "    "
   ]
  },
  {
   "cell_type": "code",
   "execution_count": 385,
   "metadata": {},
   "outputs": [
    {
     "name": "stdout",
     "output_type": "stream",
     "text": [
      "erbottlewaterbottlewat\n"
     ]
    },
    {
     "data": {
      "text/plain": [
       "True"
      ]
     },
     "execution_count": 385,
     "metadata": {},
     "output_type": "execute_result"
    }
   ],
   "source": [
    "s1 = \"waterbottle\"\n",
    "s2 = \"erbottlewat\"\n",
    "Solution().stringRotated(s1,s2)\n",
    "Solution().stringRotated2(s1,s2)"
   ]
  },
  {
   "cell_type": "code",
   "execution_count": null,
   "metadata": {},
   "outputs": [],
   "source": []
  }
 ],
 "metadata": {
  "kernelspec": {
   "display_name": "Python 3",
   "language": "python",
   "name": "python3"
  },
  "language_info": {
   "codemirror_mode": {
    "name": "ipython",
    "version": 3
   },
   "file_extension": ".py",
   "mimetype": "text/x-python",
   "name": "python",
   "nbconvert_exporter": "python",
   "pygments_lexer": "ipython3",
   "version": "3.7.1"
  }
 },
 "nbformat": 4,
 "nbformat_minor": 2
}
