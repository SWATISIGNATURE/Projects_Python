{
 "cells": [
  {
   "cell_type": "code",
   "execution_count": 124,
   "metadata": {},
   "outputs": [],
   "source": [
    "class Node:\n",
    "    def __init__(self, value, next_node = None):\n",
    "        self.value = value\n",
    "        self.next = next_node\n",
    "        \n",
    "class LinkedList:\n",
    "    def __init__(self):  \n",
    "        self.head = None\n",
    "    \n",
    "    def __len__(self):\n",
    "        result = 0\n",
    "        node = self.head\n",
    "        while node:\n",
    "            result += 1\n",
    "            node = node.next\n",
    "        return result\n",
    "        \n",
    "    def add(self,val):\n",
    "        new_node = Node(val)\n",
    "        if self.head is None:\n",
    "            self.head = new_node\n",
    "        else:\n",
    "            current = self.head\n",
    "            while current.next:\n",
    "                current = current.next\n",
    "            current.next = new_node\n",
    "            \n",
    "    def add_to_beginning(self,val):\n",
    "        new_node = Node(val)\n",
    "        if self.head is None:\n",
    "            self.head = new_node\n",
    "        else:\n",
    "            new_node.next = self.head\n",
    "            self.head = new_node\n",
    "            \n",
    "            \n",
    "        \n",
    "            \n",
    "    \n",
    "    def print_val(self):\n",
    "        if self.head is None:\n",
    "            return\n",
    "        else:\n",
    "            current = self.head\n",
    "            while current:\n",
    "                print(current.value,end=\" -> \")\n",
    "                current = current.next"
   ]
  },
  {
   "cell_type": "markdown",
   "metadata": {},
   "source": [
    "# Question 1 : Remove Dups: Write code to remove duplicates from an unsorted linked list."
   ]
  },
  {
   "cell_type": "code",
   "execution_count": 102,
   "metadata": {},
   "outputs": [],
   "source": [
    "class Solution:\n",
    "    #Approach 1: Using another result list or set\n",
    "    # Time: O(n)\n",
    "    # Space : O(n)\n",
    "    def remove_duplicate(self,l_list):\n",
    "        if l_list.head is None:\n",
    "            return\n",
    "        current = l_list.head\n",
    "        result = []\n",
    "        while current:\n",
    "            if current.value not in result:\n",
    "                result.append(current.value)\n",
    "            current = current.next\n",
    "        return result\n",
    "    \n",
    "    # How would you solve this problem if a temporary buffer is not allowed? \n",
    "    # Approach 2: Using Runner Technique (CTCI, Best Way)\n",
    "    # Time: O(n**2)\n",
    "    # Space: O(1) \n",
    "    def remove_duplicate1(self,l_list):\n",
    "        if l_list.head is None:\n",
    "            return\n",
    "        current = l_list.head\n",
    "        while current:\n",
    "            runner = current\n",
    "            while runner.next:\n",
    "                if runner.next.value == current.value:\n",
    "                    runner.next = runner.next.next\n",
    "                else:\n",
    "                    runner = runner.next\n",
    "            current = current.next\n",
    "        return l_list\n",
    "            \n",
    "    \n",
    "                "
   ]
  },
  {
   "cell_type": "code",
   "execution_count": 103,
   "metadata": {},
   "outputs": [
    {
     "name": "stdout",
     "output_type": "stream",
     "text": [
      "10 -> 25 -> 100 -> 10 -> 15 -> "
     ]
    }
   ],
   "source": [
    "l_list1 = LinkedList()\n",
    "l_list1.add(10)\n",
    "l_list1.add(25)\n",
    "l_list1.add(100)\n",
    "l_list1.add(10)\n",
    "l_list1.add(15)\n",
    "l_list1.print_val()"
   ]
  },
  {
   "cell_type": "code",
   "execution_count": 80,
   "metadata": {},
   "outputs": [
    {
     "data": {
      "text/plain": [
       "[10, 25, 100, 15]"
      ]
     },
     "execution_count": 80,
     "metadata": {},
     "output_type": "execute_result"
    }
   ],
   "source": [
    "Solution().remove_duplicate(l_list1)"
   ]
  },
  {
   "cell_type": "code",
   "execution_count": 105,
   "metadata": {},
   "outputs": [
    {
     "name": "stdout",
     "output_type": "stream",
     "text": [
      "10 -> 25 -> 100 -> 15 -> "
     ]
    }
   ],
   "source": [
    "#l_list1.print_val()\n",
    "Solution().remove_duplicate1(l_list1)\n",
    "l_list1.print_val()"
   ]
  },
  {
   "cell_type": "markdown",
   "metadata": {},
   "source": [
    "## Question 2: Return Kth to Last: Implement an algorithm to find the kth to last element of a singly linked list. "
   ]
  },
  {
   "cell_type": "code",
   "execution_count": 116,
   "metadata": {},
   "outputs": [],
   "source": [
    "class Solution:\n",
    "    # Approach 1: Using Runner technique, CTCI way\n",
    "    # Time: O(n)\n",
    "    # Space : O(1)\n",
    "    def kth_from_last(self,l_list,k):\n",
    "        if l_list.head is None:\n",
    "            return\n",
    "        current = runner = l_list.head\n",
    "        for i in range(k):\n",
    "            runner = runner.next\n",
    "        while runner:\n",
    "            current  = current.next\n",
    "            runner = runner.next\n",
    "        return current.value\n",
    "    \n",
    "    # Approach 2: Find the length of the LL (if not given) and then again iterate till length-k+1 position to get the value.\n",
    "    # Time: O(n)\n",
    "    # Space : O(1)\n",
    "    def kth_from_last1(self,l_list,k):\n",
    "        if l_list.head is None:\n",
    "            return\n",
    "        current = l_list.head\n",
    "        count = 0\n",
    "        while current:\n",
    "            count += 1\n",
    "            current = current.next\n",
    "            \n",
    "        check_k = count - k + 1\n",
    "        count = 0\n",
    "        current = l_list.head\n",
    "        while current:\n",
    "            count += 1\n",
    "            if count == check_k:\n",
    "                return current.value\n",
    "            current = current.next\n",
    "            \n",
    "        \n",
    "            \n",
    "        \n",
    "        "
   ]
  },
  {
   "cell_type": "code",
   "execution_count": 114,
   "metadata": {},
   "outputs": [
    {
     "name": "stdout",
     "output_type": "stream",
     "text": [
      "10 -> 25 -> 100 -> 10 -> 15 -> "
     ]
    }
   ],
   "source": [
    "l_list1 = LinkedList()\n",
    "l_list1.add(10)\n",
    "l_list1.add(25)\n",
    "l_list1.add(100)\n",
    "l_list1.add(10)\n",
    "l_list1.add(15)\n",
    "l_list1.print_val()"
   ]
  },
  {
   "cell_type": "code",
   "execution_count": 112,
   "metadata": {},
   "outputs": [
    {
     "data": {
      "text/plain": [
       "100"
      ]
     },
     "execution_count": 112,
     "metadata": {},
     "output_type": "execute_result"
    }
   ],
   "source": [
    "Solution().kth_from_last(l_list1,3)"
   ]
  },
  {
   "cell_type": "code",
   "execution_count": 115,
   "metadata": {},
   "outputs": [
    {
     "data": {
      "text/plain": [
       "100"
      ]
     },
     "execution_count": 115,
     "metadata": {},
     "output_type": "execute_result"
    }
   ],
   "source": [
    "Solution().kth_from_last1(l_list1,3)"
   ]
  },
  {
   "cell_type": "markdown",
   "metadata": {},
   "source": [
    "## Question 3: Delete Middle Node: Implement an algorithm to delete a node in the middle (i.e., any node but the first and last node, not necessarily the exact middle) of a singly linked list.\n"
   ]
  },
  {
   "cell_type": "code",
   "execution_count": 120,
   "metadata": {},
   "outputs": [],
   "source": [
    "class Solution:\n",
    "    \n",
    "    # Approach 1: find length of the list and go to (length/2 - 1) position and delete the node\n",
    "    # Time : O(n)\n",
    "    # Space : O(1)\n",
    "    def delete_mid_node(self,l_list):\n",
    "        if l_list.head is None:\n",
    "            return\n",
    "        current = l_list.head\n",
    "        count = 0\n",
    "        while current:\n",
    "            count += 1\n",
    "            current = current.next\n",
    "        current = l_list.head\n",
    "        print(count)\n",
    "        for i in range(count//2 - 1):\n",
    "            current = current.next\n",
    "        print(current.value)\n",
    "        current.next = current.next.next\n",
    "        return l_list\n",
    "    \n",
    "    def delete_mid_node1(self,l_list):\n",
    "        if l_list.head is None:\n",
    "            return\n",
    "        current = runner = l_list.head\n",
    "        while runner.next:\n",
    "            if runner.next.next is None:\n",
    "                runner = runner.next\n",
    "            else:\n",
    "                runner = runner.next.next\n",
    "            current = current.next\n",
    "            \n",
    "        current.next = current.next.next\n",
    "        return l_list\n",
    "        \n",
    "        \n",
    "        "
   ]
  },
  {
   "cell_type": "code",
   "execution_count": 121,
   "metadata": {},
   "outputs": [
    {
     "name": "stdout",
     "output_type": "stream",
     "text": [
      "10 -> 25 -> 100 -> 10 -> 15 -> "
     ]
    }
   ],
   "source": [
    "l_list1 = LinkedList()\n",
    "l_list1.add(10)\n",
    "l_list1.add(25)\n",
    "l_list1.add(100)\n",
    "l_list1.add(10)\n",
    "l_list1.add(15)\n",
    "l_list1.print_val()"
   ]
  },
  {
   "cell_type": "code",
   "execution_count": 146,
   "metadata": {},
   "outputs": [
    {
     "name": "stdout",
     "output_type": "stream",
     "text": [
      "5\n",
      "25\n",
      "10 -> 25 -> 10 -> 15 -> "
     ]
    }
   ],
   "source": [
    "Solution().delete_mid_node(l_list1)\n",
    "l_list1.print_val()"
   ]
  },
  {
   "cell_type": "code",
   "execution_count": 122,
   "metadata": {},
   "outputs": [
    {
     "name": "stdout",
     "output_type": "stream",
     "text": [
      "10 -> 25 -> 100 -> 15 -> "
     ]
    }
   ],
   "source": [
    "Solution().delete_mid_node1(l_list1)\n",
    "l_list1.print_val()"
   ]
  },
  {
   "cell_type": "markdown",
   "metadata": {},
   "source": [
    "## Question 3-b: Delete Middle Node: Implement an algorithm to delete a node in the middle (i.e., any node but the first and last node, not necessarily the exact middle) of a singly linked list, given only access to that node. "
   ]
  },
  {
   "cell_type": "code",
   "execution_count": 156,
   "metadata": {},
   "outputs": [],
   "source": [
    "class Solution:\n",
    "    def delete_mid_node(self,mid_node):\n",
    "        mid_node.value = mid_node.next.value\n",
    "        mid_node.next = mid_node.next.next\n",
    "        "
   ]
  },
  {
   "cell_type": "markdown",
   "metadata": {},
   "source": [
    "## Question 4: Partition: Write code to partition a linked list around a value x, such that all nodes less than x come before all nodes greater than or equal to x. Ifxis contained within the list, the values of x only need to be after the elements less than x (see below). The partition element x can appear anywhere in the \"right partition\"; it does not need to appear between the left and right partitions. "
   ]
  },
  {
   "cell_type": "code",
   "execution_count": 88,
   "metadata": {},
   "outputs": [],
   "source": [
    "class Solution:\n",
    "    def partition_list(self,llist, x):\n",
    "        if llist.head is None:\n",
    "            return\n",
    "        lower_head = lower_tail =None\n",
    "        high_head = high_tail = None\n",
    "        equal_head = equal_tail = None\n",
    "        current = llist.head\n",
    "        while current:\n",
    "            if current.value < x:\n",
    "                if lower_head is None:\n",
    "                    lower_head = lower_tail = current\n",
    "                else:\n",
    "                    lower_tail.next = current\n",
    "                    lower_tail = current\n",
    "            elif current.value == x:\n",
    "                if equal_head is None:\n",
    "                    equal_head = equal_tail = current\n",
    "                else:\n",
    "                    equal_tail.next = current\n",
    "                    equal_tail = current\n",
    "            else:\n",
    "                if high_head is None:\n",
    "                    high_head = high_tail = current\n",
    "                else:\n",
    "                    high_tail.next = current\n",
    "                    high_tail = current\n",
    "            current = current.next\n",
    "            \n",
    "                    \n",
    "        lower_tail.next = equal_head\n",
    "        equal_tail.next = high_head\n",
    "        high_tail.next = None\n",
    "        while lower_head:\n",
    "            print(lower_head.value,end=\" => \")\n",
    "            lower_head = lower_head.next\n",
    "        \n",
    "\n",
    "                \n",
    "                    \n",
    "        "
   ]
  },
  {
   "cell_type": "code",
   "execution_count": 89,
   "metadata": {},
   "outputs": [
    {
     "name": "stdout",
     "output_type": "stream",
     "text": [
      "10 -> 25 -> 15 -> 100 -> 10 -> 15 -> "
     ]
    }
   ],
   "source": [
    "l_list1 = LinkedList()\n",
    "l_list1.add(10)\n",
    "l_list1.add(25)\n",
    "l_list1.add(15)\n",
    "l_list1.add(100)\n",
    "l_list1.add(10)\n",
    "l_list1.add(15)\n",
    "l_list1.print_val()"
   ]
  },
  {
   "cell_type": "code",
   "execution_count": 90,
   "metadata": {},
   "outputs": [
    {
     "name": "stdout",
     "output_type": "stream",
     "text": [
      "10 => 10 => 15 => 15 => 25 => 100 => "
     ]
    }
   ],
   "source": [
    "Solution().partition_list(l_list1,15)"
   ]
  },
  {
   "cell_type": "markdown",
   "metadata": {},
   "source": [
    "## Question 5: Sum Lists: You have two numbers represented by a linked list, where each node contains a single digit. The digits are stored in reverse order, such that the Vs digit is at the head of the list. Write a function that adds the two numbers and returns the sum as a linked list. \n",
    "\n",
    "## EXAMPLE Input: (7- > 1 -> 6) + (5 -> 9 -> 2).That is,617 + 295.Output: 2 -> 1 -> 9. That is, 912. \n",
    "\n",
    "## 5.b Suppose the digits are stored in forward order. Repeat the above problem.EXAMPLE Input: (6 -> 1 -> 7) + (2 -> 9 -> 5).That is, 617 + 295, Output:9 -> 1 -> 2,Thatis,912.\n",
    "\n"
   ]
  },
  {
   "cell_type": "code",
   "execution_count": 137,
   "metadata": {},
   "outputs": [],
   "source": [
    "class Solution:\n",
    "    def sum_lists_reversed_order(self, list1, list2):\n",
    "        if list1.head == None:\n",
    "            return list2\n",
    "        if list2.head == None:\n",
    "            return list1\n",
    "        if list1.head == None and list2.head == None:\n",
    "            return\n",
    "        cur1 = list1.head\n",
    "        cur2 = list2.head\n",
    "        res_list = LinkedList()\n",
    "        carry = 0\n",
    "        while cur1 or cur2:\n",
    "            result = carry\n",
    "            if cur1:\n",
    "                result += cur1.value\n",
    "                cur1 = cur1.next\n",
    "            if cur2:\n",
    "                result += cur2.value\n",
    "                cur2 = cur2.next\n",
    "            res_list.add(result%10)\n",
    "            carry = result//10\n",
    "        if carry:\n",
    "            res_list.add(carry)\n",
    "        return res_list\n",
    "    \n",
    "    def sum_lists_followup(self,ll_a, ll_b):\n",
    "        # Pad the shorter list with zeros\n",
    "        if ll_a.__len__() < ll_b.__len__():\n",
    "            for i in range(ll_b.__len__() - ll_a.__len__()):\n",
    "                ll_a.add_to_beginning(0)\n",
    "        else:\n",
    "            for i in range(ll_a.__len__() - ll_b.__len__()):\n",
    "                ll_b.add_to_beginning(0)\n",
    "\n",
    "        # Find sum\n",
    "        n1, n2 = ll_a.head, ll_b.head\n",
    "        result = 0\n",
    "        while n1 and n2:\n",
    "            result = (result * 10) + n1.value + n2.value\n",
    "            n1 = n1.next\n",
    "            n2 = n2.next\n",
    "\n",
    "        # Create new linked list\n",
    "        ll = LinkedList()\n",
    "        while result >= 0:\n",
    "            ll.add(result%10)\n",
    "            result = result//10\n",
    "            \n",
    "\n",
    "        return ll\n",
    "\n",
    "        "
   ]
  },
  {
   "cell_type": "code",
   "execution_count": 138,
   "metadata": {},
   "outputs": [],
   "source": [
    "l_list1 = LinkedList()\n",
    "l_list1.add(7)\n",
    "l_list1.add(1)\n",
    "l_list1.add(6)\n",
    "l_list2 = LinkedList()\n",
    "l_list2.add(5)\n",
    "l_list2.add(9)\n",
    "l_list2.add(2)\n"
   ]
  },
  {
   "cell_type": "code",
   "execution_count": 129,
   "metadata": {},
   "outputs": [
    {
     "name": "stdout",
     "output_type": "stream",
     "text": [
      "2 -> 1 -> 9 -> "
     ]
    }
   ],
   "source": [
    "Solution().sum_lists_reversed_order(l_list1,l_list2).print_val()"
   ]
  },
  {
   "cell_type": "code",
   "execution_count": 140,
   "metadata": {},
   "outputs": [],
   "source": [
    "#Solution().sum_lists_followup(l_list1,l_list2).print_val()"
   ]
  },
  {
   "cell_type": "markdown",
   "metadata": {},
   "source": [
    "## Question 6: Palindrome: Implement a function to check if a linked list is a palindrome. "
   ]
  },
  {
   "cell_type": "code",
   "execution_count": 115,
   "metadata": {},
   "outputs": [],
   "source": [
    "class Solution:\n",
    "    # Approach 1: Reverse the list and then compare, can be optimized by comparing to length/2\n",
    "    # Time: O(n)\n",
    "    # Space : O(n)\n",
    "    def check_palindrome(self,llist):\n",
    "        if llist is None:\n",
    "            return\n",
    "        current = llist.head\n",
    "        \n",
    "        #making the reverse list for comparison\n",
    "        #rev_llist = LinkedList()\n",
    "        rev_head = None\n",
    "        while current:\n",
    "            rev_head = Node(current.value,rev_head)\n",
    "            current = current.next\n",
    "            \n",
    "        #comparing values to check if palindrome or not\n",
    "        flag = False\n",
    "        orig_node = llist.head\n",
    "        rev_node = rev_head\n",
    "        while orig_node and rev_node:\n",
    "            #print(orig_node.value,rev_node.value)\n",
    "            if orig_node.value == rev_node.value:\n",
    "                flag = True\n",
    "            else:\n",
    "                flag = False\n",
    "                break\n",
    "            orig_node = orig_node.next\n",
    "            rev_node = rev_node.next\n",
    "        if flag:\n",
    "            return True\n",
    "        else:\n",
    "            return False\n",
    "        \n",
    "    # Approach 2: using stack method to compare till the half of the list \n",
    "    # Time : O(n)\n",
    "    # Space : O(n)\n",
    "    def check_palindrome(self,llist):\n",
    "        if llist is None:\n",
    "            return\n",
    "        current = runner = llist.head\n",
    "        stack= []\n",
    "        while runner and runner.next:\n",
    "            stack.push(current.value)\n",
    "            runner = runner.next.next\n",
    "            current = current.next\n",
    "        \n",
    "        #to handle odd numbered list\n",
    "        if runner:\n",
    "            current = current.next\n",
    "        \n",
    "        while current:\n",
    "            if current.value != stack.pop():\n",
    "                return False\n",
    "            current = current.next\n",
    "        return True\n",
    "        \n",
    "            "
   ]
  },
  {
   "cell_type": "code",
   "execution_count": 120,
   "metadata": {},
   "outputs": [],
   "source": [
    "l_list1 = LinkedList()\n",
    "l_list1.add('s')\n",
    "l_list1.add('w')\n",
    "l_list1.add('a')\n",
    "l_list1.add('a')\n",
    "l_list1.add('w')\n",
    "l_list1.add('s')\n"
   ]
  },
  {
   "cell_type": "code",
   "execution_count": 121,
   "metadata": {},
   "outputs": [
    {
     "name": "stdout",
     "output_type": "stream",
     "text": [
      "s\n",
      "w\n",
      "a\n",
      "a\n",
      "w\n",
      "s\n"
     ]
    },
    {
     "data": {
      "text/plain": [
       "True"
      ]
     },
     "execution_count": 121,
     "metadata": {},
     "output_type": "execute_result"
    }
   ],
   "source": [
    "Solution().check_palindrome(l_list1)"
   ]
  },
  {
   "cell_type": "markdown",
   "metadata": {},
   "source": [
    "## Intersection; Given two (singly) linked lists, determine if the two lists intersect. Return the intersecting node. Note that the intersection is defined based on reference, not value. That is, if the kth node of the first linked list is the exact same node (by reference) as the jt h node of the second linked list, then they are intersecting."
   ]
  },
  {
   "cell_type": "code",
   "execution_count": 240,
   "metadata": {},
   "outputs": [],
   "source": [
    "class Solution:\n",
    "    def find_intersection(self,llist1,llist2):\n",
    "        #if I had tail in my linkedlist definition then can directly compare the tails refernce position\n",
    "        #if llist1.tail is not llist2.tail: return (ALWAYS USE is AND is not for memory comparision and ==,!=  for value comparision)\n",
    "        \n",
    "        #get the tail's memory for each linked list and sizes as well\n",
    "        cur1 = llist1.head\n",
    "        cur2 = llist2.head\n",
    "        tail1 = tail2 = None\n",
    "        \n",
    "        llist1_size = 0\n",
    "        llist2_size = 0\n",
    "        \n",
    "        while cur1:\n",
    "            cur1 = cur1.next\n",
    "            llist1_size += 1\n",
    "        tail1 = cur1\n",
    "        \n",
    "        while cur2:\n",
    "            cur2 = cur2.next\n",
    "            llist2_size += 1\n",
    "        tail2 = cur2\n",
    "        \n",
    "        if tail1 is not tail2:\n",
    "            return\n",
    "        \n",
    "        short_list = llist1 if llist1_size < llist2_size else llist2\n",
    "        long_list = llist1 if llist1_size > llist2_size else llist2\n",
    "        \n",
    "        diff = abs(llist1_size-llist2_size)\n",
    "        \n",
    "        short_curr = short_list.head\n",
    "        long_curr = long_list.head\n",
    "        \n",
    "        for i in range(diff):\n",
    "            long_curr = long_curr.next\n",
    "        \n",
    "        print(long_curr)\n",
    "        while short_curr is not long_curr:\n",
    "            short_curr = short_curr.next\n",
    "            long_curr = long_curr.next \n",
    "        return long_curr\n",
    "        \n",
    "            \n",
    "        "
   ]
  },
  {
   "cell_type": "code",
   "execution_count": 241,
   "metadata": {},
   "outputs": [],
   "source": [
    "l_list1 = LinkedList()\n",
    "l_list1.add(1)\n",
    "l_list1.add(2)\n",
    "l_list1.add(3)\n",
    "l_list1.add(4)\n",
    "l_list1.add(6)\n",
    "l_list1.add(8)"
   ]
  },
  {
   "cell_type": "code",
   "execution_count": 242,
   "metadata": {},
   "outputs": [],
   "source": [
    "l_list2 = LinkedList()\n",
    "l_list2.add(20)\n",
    "l_list2.add(3)\n",
    "l_list2.add(4)\n",
    "l_list2.add(6)\n",
    "l_list2.add(8)"
   ]
  },
  {
   "cell_type": "code",
   "execution_count": 243,
   "metadata": {},
   "outputs": [
    {
     "name": "stdout",
     "output_type": "stream",
     "text": [
      "<__main__.Node object at 0x000001CD0DC979E8>\n"
     ]
    }
   ],
   "source": [
    "Solution().find_intersection(l_list1,l_list2)"
   ]
  },
  {
   "cell_type": "markdown",
   "metadata": {},
   "source": [
    "## Loop Detection: Given a circular linked list, implement an algorithm that returns the node at the beginning of the loop.DEFINITION : Circular linked list: A (corrupt) linked list in which a node's next pointer points to an earlier node, so as to make a loop in the linked list. "
   ]
  },
  {
   "cell_type": "markdown",
   "metadata": {},
   "source": [
    "### for solution explanation refer to : https://youtu.be/apIw0Opq5nk (best explanation)"
   ]
  },
  {
   "cell_type": "code",
   "execution_count": 245,
   "metadata": {},
   "outputs": [],
   "source": [
    "class Solution:\n",
    "    def detect_loop(self,llist):\n",
    "        if llist.head is None:\n",
    "            return\n",
    "        \n",
    "        # checking if there is a loop or not: Using Runner technique if we see faster and slower never meets then there is no loop\n",
    "        # if faster and slower meets at some point then there is a loop\n",
    "        \n",
    "        faster = slower = llist.head\n",
    "        #faster moves 2 steps and slower moves 1 step\n",
    "        while faster and faster.next:\n",
    "            faster = faster.next.next\n",
    "            slower = slower.next\n",
    "            #when the meet we know there is a loop for sure, just for sake of detecting loop we can see if they meet return True\n",
    "            if faster is slower:\n",
    "                break\n",
    "        \n",
    "        if faster is None or faster.next is None:\n",
    "            return None\n",
    "        \n",
    "        # to find the start of the circular loop within the linked list\n",
    "        slower = llist.head\n",
    "        while slower is not faster:\n",
    "            slower = slower.next\n",
    "            faster = faster.next\n",
    "        return faster\n",
    "        \n",
    "        \n",
    "            \n",
    "            "
   ]
  },
  {
   "cell_type": "code",
   "execution_count": null,
   "metadata": {},
   "outputs": [],
   "source": []
  },
  {
   "cell_type": "code",
   "execution_count": null,
   "metadata": {},
   "outputs": [],
   "source": []
  },
  {
   "cell_type": "code",
   "execution_count": null,
   "metadata": {},
   "outputs": [],
   "source": []
  },
  {
   "cell_type": "code",
   "execution_count": null,
   "metadata": {},
   "outputs": [],
   "source": []
  },
  {
   "cell_type": "code",
   "execution_count": 17,
   "metadata": {},
   "outputs": [],
   "source": [
    "from random import randint\n",
    "\n",
    "\n",
    "class LinkedListNode:\n",
    "\n",
    "    def __init__(self, value, nextNode=None, prevNode=None):\n",
    "        self.value = value\n",
    "        self.next = nextNode\n",
    "        self.prev = prevNode\n",
    "\n",
    "    def __str__(self):\n",
    "        return str(self.value)\n",
    "\n",
    "\n",
    "class LinkedList:\n",
    "\n",
    "    def __init__(self, values=None):\n",
    "        self.head = None\n",
    "        self.tail = None\n",
    "        if values is not None:\n",
    "            self.add_multiple(values)\n",
    "\n",
    "    def __iter__(self):\n",
    "        current = self.head\n",
    "        while current:\n",
    "            yield current\n",
    "            current = current.next\n",
    "\n",
    "    def __str__(self):\n",
    "        values = [str(x) for x in self]\n",
    "        return ' -> '.join(values)\n",
    "\n",
    "    def __len__(self):\n",
    "        result = 0\n",
    "        node = self.head\n",
    "        while node:\n",
    "            result += 1\n",
    "            node = node.next\n",
    "        return result\n",
    "\n",
    "    def add(self, value):\n",
    "        if self.head is None:\n",
    "            self.tail = self.head = LinkedListNode(value)\n",
    "        else:\n",
    "            self.tail.next = LinkedListNode(value)\n",
    "            self.tail = self.tail.next\n",
    "        return self.tail\n",
    "\n",
    "    def add_to_beginning(self, value):\n",
    "        if self.head is None:\n",
    "            self.tail = self.head = LinkedListNode(value)\n",
    "        else:\n",
    "            self.head = LinkedListNode(value, self.head)\n",
    "        return self.head\n",
    "\n",
    "    def add_multiple(self, values):\n",
    "        for v in values:\n",
    "            self.add(v)\n",
    "\n",
    "    def generate(self, n, min_value, max_value):\n",
    "        self.head = self.tail = None\n",
    "        for i in range(n):\n",
    "            self.add(randint(min_value, max_value))\n",
    "        return self\n",
    "\n",
    "\n",
    "class DoublyLinkedList(LinkedList):\n",
    "\n",
    "    def add(self, value):\n",
    "        if self.head is None:\n",
    "            self.tail = self.head = LinkedListNode(value, None, self.tail)\n",
    "        else:\n",
    "            self.tail.next = LinkedListNode(value)\n",
    "            self.tail = self.tail.next\n",
    "        return self\n",
    "\n",
    "def partition(ll, x):\n",
    "    current = ll.tail = ll.head\n",
    "    print(current.value,ll.head.value,ll.tail.value)\n",
    "\n",
    "    while current:\n",
    "        nextNode = current.next\n",
    "        print(nextNode.value)\n",
    "        current.next = None\n",
    "        print(current.value)\n",
    "        if current.value < x:\n",
    "            print(\"ll.head.value\",ll.head.value)\n",
    "            current.next = ll.head\n",
    "            ll.head = current\n",
    "        else:\n",
    "            ll.tail.next = current\n",
    "            ll.tail = current\n",
    "        current = nextNode\n",
    "        \n",
    "    # Error check in case all nodes are less than x\n",
    "    if ll.tail.next is not None:\n",
    "        ll.tail.next = None\n",
    "        \n"
   ]
  },
  {
   "cell_type": "code",
   "execution_count": 18,
   "metadata": {},
   "outputs": [
    {
     "name": "stdout",
     "output_type": "stream",
     "text": [
      "2 2 2\n",
      "13\n",
      "2\n",
      "ll.head.value 2\n",
      "1\n",
      "13\n",
      "32\n",
      "1\n",
      "ll.head.value 2\n",
      "3\n",
      "32\n",
      "5\n",
      "3\n",
      "ll.head.value 1\n",
      "16\n",
      "5\n",
      "2\n",
      "16\n",
      "4\n",
      "2\n",
      "ll.head.value 3\n",
      "6\n",
      "4\n",
      "ll.head.value 2\n",
      "90\n",
      "6\n"
     ]
    },
    {
     "ename": "AttributeError",
     "evalue": "'NoneType' object has no attribute 'value'",
     "output_type": "error",
     "traceback": [
      "\u001b[1;31m---------------------------------------------------------------------------\u001b[0m",
      "\u001b[1;31mAttributeError\u001b[0m                            Traceback (most recent call last)",
      "\u001b[1;32m<ipython-input-18-79947310f3a6>\u001b[0m in \u001b[0;36m<module>\u001b[1;34m\u001b[0m\n\u001b[0;32m      1\u001b[0m \u001b[0mll\u001b[0m \u001b[1;33m=\u001b[0m \u001b[0mLinkedList\u001b[0m\u001b[1;33m(\u001b[0m\u001b[1;33m)\u001b[0m\u001b[1;33m\u001b[0m\u001b[1;33m\u001b[0m\u001b[0m\n\u001b[0;32m      2\u001b[0m \u001b[0mll\u001b[0m\u001b[1;33m.\u001b[0m\u001b[0madd_multiple\u001b[0m\u001b[1;33m(\u001b[0m\u001b[1;33m[\u001b[0m\u001b[1;36m2\u001b[0m\u001b[1;33m,\u001b[0m\u001b[1;36m13\u001b[0m\u001b[1;33m,\u001b[0m\u001b[1;36m1\u001b[0m\u001b[1;33m,\u001b[0m\u001b[1;36m32\u001b[0m\u001b[1;33m,\u001b[0m\u001b[1;36m3\u001b[0m\u001b[1;33m,\u001b[0m\u001b[1;36m5\u001b[0m\u001b[1;33m,\u001b[0m\u001b[1;36m16\u001b[0m\u001b[1;33m,\u001b[0m\u001b[1;36m2\u001b[0m\u001b[1;33m,\u001b[0m\u001b[1;36m4\u001b[0m\u001b[1;33m,\u001b[0m\u001b[1;36m6\u001b[0m\u001b[1;33m,\u001b[0m\u001b[1;36m90\u001b[0m\u001b[1;33m]\u001b[0m\u001b[1;33m)\u001b[0m\u001b[1;33m\u001b[0m\u001b[1;33m\u001b[0m\u001b[0m\n\u001b[1;32m----> 3\u001b[1;33m \u001b[0mpartition\u001b[0m\u001b[1;33m(\u001b[0m\u001b[0mll\u001b[0m\u001b[1;33m,\u001b[0m \u001b[1;36m5\u001b[0m\u001b[1;33m)\u001b[0m\u001b[1;33m\u001b[0m\u001b[1;33m\u001b[0m\u001b[0m\n\u001b[0m\u001b[0;32m      4\u001b[0m \u001b[0mprint\u001b[0m\u001b[1;33m(\u001b[0m\u001b[0mll\u001b[0m\u001b[1;33m)\u001b[0m\u001b[1;33m\u001b[0m\u001b[1;33m\u001b[0m\u001b[0m\n",
      "\u001b[1;32m<ipython-input-17-510e82e1f969>\u001b[0m in \u001b[0;36mpartition\u001b[1;34m(ll, x)\u001b[0m\n\u001b[0;32m     81\u001b[0m     \u001b[1;32mwhile\u001b[0m \u001b[0mcurrent\u001b[0m\u001b[1;33m:\u001b[0m\u001b[1;33m\u001b[0m\u001b[1;33m\u001b[0m\u001b[0m\n\u001b[0;32m     82\u001b[0m         \u001b[0mnextNode\u001b[0m \u001b[1;33m=\u001b[0m \u001b[0mcurrent\u001b[0m\u001b[1;33m.\u001b[0m\u001b[0mnext\u001b[0m\u001b[1;33m\u001b[0m\u001b[1;33m\u001b[0m\u001b[0m\n\u001b[1;32m---> 83\u001b[1;33m         \u001b[0mprint\u001b[0m\u001b[1;33m(\u001b[0m\u001b[0mnextNode\u001b[0m\u001b[1;33m.\u001b[0m\u001b[0mvalue\u001b[0m\u001b[1;33m)\u001b[0m\u001b[1;33m\u001b[0m\u001b[1;33m\u001b[0m\u001b[0m\n\u001b[0m\u001b[0;32m     84\u001b[0m         \u001b[0mcurrent\u001b[0m\u001b[1;33m.\u001b[0m\u001b[0mnext\u001b[0m \u001b[1;33m=\u001b[0m \u001b[1;32mNone\u001b[0m\u001b[1;33m\u001b[0m\u001b[1;33m\u001b[0m\u001b[0m\n\u001b[0;32m     85\u001b[0m         \u001b[0mprint\u001b[0m\u001b[1;33m(\u001b[0m\u001b[0mcurrent\u001b[0m\u001b[1;33m.\u001b[0m\u001b[0mvalue\u001b[0m\u001b[1;33m)\u001b[0m\u001b[1;33m\u001b[0m\u001b[1;33m\u001b[0m\u001b[0m\n",
      "\u001b[1;31mAttributeError\u001b[0m: 'NoneType' object has no attribute 'value'"
     ]
    }
   ],
   "source": [
    "ll = LinkedList()\n",
    "ll.add_multiple([2,13,1,32,3,5,16,2,4,6,90])\n",
    "partition(ll, 5)\n",
    "print(ll)"
   ]
  },
  {
   "cell_type": "code",
   "execution_count": null,
   "metadata": {},
   "outputs": [],
   "source": []
  }
 ],
 "metadata": {
  "kernelspec": {
   "display_name": "Python 3",
   "language": "python",
   "name": "python3"
  },
  "language_info": {
   "codemirror_mode": {
    "name": "ipython",
    "version": 3
   },
   "file_extension": ".py",
   "mimetype": "text/x-python",
   "name": "python",
   "nbconvert_exporter": "python",
   "pygments_lexer": "ipython3",
   "version": "3.7.1"
  }
 },
 "nbformat": 4,
 "nbformat_minor": 2
}
