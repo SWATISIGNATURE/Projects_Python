{
 "cells": [
  {
   "cell_type": "markdown",
   "metadata": {},
   "source": [
    "# Itertools"
   ]
  },
  {
   "cell_type": "markdown",
   "metadata": {},
   "source": [
    "### 1.You are given a two lists A and B. Your task is to compute their cartesian product A X B."
   ]
  },
  {
   "cell_type": "code",
   "execution_count": 1,
   "metadata": {},
   "outputs": [
    {
     "name": "stdout",
     "output_type": "stream",
     "text": [
      "1 2 3\n",
      "3 4 5\n",
      "(1, 3) (1, 4) (1, 5) (2, 3) (2, 4) (2, 5) (3, 3) (3, 4) (3, 5)\n"
     ]
    }
   ],
   "source": [
    "from itertools import product\n",
    "lst1 = map(int, input().split())\n",
    "lst2 = map(int, input().split())\n",
    "res = (product(lst1, lst2))\n",
    "print(*res)"
   ]
  },
  {
   "cell_type": "markdown",
   "metadata": {},
   "source": [
    "### 2.You are given a string S.Your task is to print all possible permutations of size k  of the string in lexicographic sorted order."
   ]
  },
  {
   "cell_type": "code",
   "execution_count": 2,
   "metadata": {},
   "outputs": [
    {
     "name": "stdout",
     "output_type": "stream",
     "text": [
      "HACK 2\n",
      "AC\n",
      "AH\n",
      "AK\n",
      "CA\n",
      "CH\n",
      "CK\n",
      "HA\n",
      "HC\n",
      "HK\n",
      "KA\n",
      "KC\n",
      "KH\n"
     ]
    }
   ],
   "source": [
    "from itertools import permutations\n",
    "my_string, num = map(str, input().split())\n",
    "res =  list(permutations(sorted(my_string), int(num)))\n",
    "for i in res:\n",
    "    print(\"\".join(i))\n"
   ]
  },
  {
   "cell_type": "markdown",
   "metadata": {},
   "source": [
    "### 3.You are given a string S.Your task is to print all possible combinations up to size k  of the string in lexicographic sorted order."
   ]
  },
  {
   "cell_type": "code",
   "execution_count": 8,
   "metadata": {},
   "outputs": [
    {
     "name": "stdout",
     "output_type": "stream",
     "text": [
      "HACK 3\n",
      "A\n",
      "C\n",
      "H\n",
      "K\n",
      "AC\n",
      "AH\n",
      "AK\n",
      "CH\n",
      "CK\n",
      "HK\n",
      "ACH\n",
      "ACK\n",
      "AHK\n",
      "CHK\n"
     ]
    }
   ],
   "source": [
    "from itertools import combinations\n",
    "my_string, num = map(str, input().split())\n",
    "#res =  list(combinations(sorted(my_string), int(num)))\n",
    "\n",
    "for i in range(1,int(num)+1):\n",
    "    for j in list(combinations(sorted(my_string), i)):\n",
    "        print(\"\".join(j))"
   ]
  },
  {
   "cell_type": "markdown",
   "metadata": {},
   "source": [
    "### 4.You are given a string S.Your task is to print all possible size k replacement combinations of the string in lexicographic sorted order."
   ]
  },
  {
   "cell_type": "code",
   "execution_count": 9,
   "metadata": {},
   "outputs": [
    {
     "name": "stdout",
     "output_type": "stream",
     "text": [
      "HACK 3\n",
      "AAA\n",
      "AAC\n",
      "AAH\n",
      "AAK\n",
      "ACC\n",
      "ACH\n",
      "ACK\n",
      "AHH\n",
      "AHK\n",
      "AKK\n",
      "CCC\n",
      "CCH\n",
      "CCK\n",
      "CHH\n",
      "CHK\n",
      "CKK\n",
      "HHH\n",
      "HHK\n",
      "HKK\n",
      "KKK\n"
     ]
    }
   ],
   "source": [
    "from itertools import combinations_with_replacement\n",
    "my_string, num = map(str, input().split())\n",
    "res =  list(combinations_with_replacement(sorted(my_string), int(num)))\n",
    "for i in res:\n",
    "    print(\"\".join(i))"
   ]
  },
  {
   "cell_type": "markdown",
   "metadata": {},
   "source": [
    "### 5.You are given a string S. Suppose a character 'c' occurs consecutively X times in the string. Replace these consecutive occurrences of the character 'c' with (X,c)  in the string."
   ]
  },
  {
   "cell_type": "code",
   "execution_count": 33,
   "metadata": {},
   "outputs": [
    {
     "name": "stdout",
     "output_type": "stream",
     "text": [
      "1222311\n",
      "(1, 1) (3, 2) (1, 3) (2, 1)\n"
     ]
    }
   ],
   "source": [
    "from itertools import groupby\n",
    "\n",
    "str1 = input()\n",
    "lst = []\n",
    "for k, g in groupby(str1):\n",
    "    lst.append(str(tuple((len(list(g)), int(k)))))\n",
    "print(*lst)"
   ]
  },
  {
   "cell_type": "markdown",
   "metadata": {},
   "source": [
    "### 6.The input consists of three lines. The first line contains the integer , denoting the length of the list. The next line consists of  space-separated lowercase English letters, denoting the elements of the list.The third and the last line of input contains the integer , denoting the number of indices to be selected.   Output Format:Output a single line consisting of the probability that at least one of the  indices selected contains the letter:''."
   ]
  },
  {
   "cell_type": "code",
   "execution_count": 1,
   "metadata": {},
   "outputs": [
    {
     "name": "stdout",
     "output_type": "stream",
     "text": [
      "4\n",
      "a a c d\n",
      "2\n",
      "0.833\n"
     ]
    }
   ],
   "source": [
    "from itertools import combinations\n",
    "\n",
    "N = int(input())\n",
    "L = input().split()\n",
    "K = int(input())\n",
    "\n",
    "C = list(combinations(L, K))\n",
    "F = filter(lambda c: 'a' in c, C)\n",
    "print(\"{0:.3}\".format(len(list(F))/len(C)))\n"
   ]
  },
  {
   "cell_type": "markdown",
   "metadata": {},
   "source": [
    "### 7.The first line contains  space separated integers  and .The next  lines each contains an integer , denoting the number of elements in the  list, followed by  space separated integers denoting the elements in the list."
   ]
  },
  {
   "cell_type": "code",
   "execution_count": 2,
   "metadata": {},
   "outputs": [
    {
     "name": "stdout",
     "output_type": "stream",
     "text": [
      "3 1000\n",
      "2 5 7\n",
      "3 4 8 7\n",
      "2 4 13 6\n",
      "282\n"
     ]
    }
   ],
   "source": [
    "from itertools import product\n",
    "\n",
    "K,M = map(int,input().split())\n",
    "N = (list(map(int, input().split()))[1:] for _ in range(K))\n",
    "results = map(lambda x: sum(i**2 for i in x)%M, product(*N))\n",
    "print(max(results))"
   ]
  },
  {
   "cell_type": "code",
   "execution_count": null,
   "metadata": {},
   "outputs": [],
   "source": []
  }
 ],
 "metadata": {
  "kernelspec": {
   "display_name": "Python 3",
   "language": "python",
   "name": "python3"
  },
  "language_info": {
   "codemirror_mode": {
    "name": "ipython",
    "version": 3
   },
   "file_extension": ".py",
   "mimetype": "text/x-python",
   "name": "python",
   "nbconvert_exporter": "python",
   "pygments_lexer": "ipython3",
   "version": "3.7.1"
  }
 },
 "nbformat": 4,
 "nbformat_minor": 2
}
