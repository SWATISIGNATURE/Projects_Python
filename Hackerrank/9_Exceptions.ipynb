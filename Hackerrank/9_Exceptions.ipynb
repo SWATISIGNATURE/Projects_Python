{
 "cells": [
  {
   "cell_type": "markdown",
   "metadata": {},
   "source": [
    "### 1.You are given two values a and b.Perform integer division and print a/b ."
   ]
  },
  {
   "cell_type": "code",
   "execution_count": 9,
   "metadata": {},
   "outputs": [
    {
     "name": "stdout",
     "output_type": "stream",
     "text": [
      "3\n",
      "2 0\n",
      "Error Code: integer division or modulo by zero\n",
      "3 $\n",
      "Error Code: invalid literal for int() with base 10: '$'\n",
      "4 1\n",
      "4\n"
     ]
    }
   ],
   "source": [
    "num = int(input())\n",
    "for i in range(num):\n",
    "    try:\n",
    "        lst = list(map(int,input().split()))\n",
    "        a = lst[0]\n",
    "        b = lst[1]\n",
    "        print(a // b)\n",
    "    except ZeroDivisionError as e:\n",
    "        print(\"Error Code:\",e)\n",
    "    except ValueError as e:\n",
    "        print(\"Error Code:\",e)"
   ]
  },
  {
   "cell_type": "markdown",
   "metadata": {},
   "source": [
    "### 2.You are given a string .Your task is to find out whether it is a valid regex or not."
   ]
  },
  {
   "cell_type": "code",
   "execution_count": 18,
   "metadata": {},
   "outputs": [
    {
     "name": "stdout",
     "output_type": "stream",
     "text": [
      "3\n",
      "[0-9]++\n",
      "False\n",
      "[0-9]\n",
      "True\n",
      "123\n",
      "True\n"
     ]
    }
   ],
   "source": [
    "import re\n",
    "num = int(input())\n",
    "for i in range(num):\n",
    "    flag = \"True\"\n",
    "    try:\n",
    "        re.compile(input())\n",
    "        #print(flag)\n",
    "    except re.error:\n",
    "        flag = \"False\"\n",
    "        #print(\"Error Code:\",e)\n",
    "    print(flag)"
   ]
  }
 ],
 "metadata": {
  "kernelspec": {
   "display_name": "Python 3",
   "language": "python",
   "name": "python3"
  },
  "language_info": {
   "codemirror_mode": {
    "name": "ipython",
    "version": 3
   },
   "file_extension": ".py",
   "mimetype": "text/x-python",
   "name": "python",
   "nbconvert_exporter": "python",
   "pygments_lexer": "ipython3",
   "version": "3.7.1"
  }
 },
 "nbformat": 4,
 "nbformat_minor": 2
}
