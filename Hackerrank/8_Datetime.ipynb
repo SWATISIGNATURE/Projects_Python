{
 "cells": [
  {
   "cell_type": "markdown",
   "metadata": {},
   "source": [
    "### 1.You are given a date. Your task is to find what the day is on that date."
   ]
  },
  {
   "cell_type": "code",
   "execution_count": 1,
   "metadata": {},
   "outputs": [
    {
     "name": "stdout",
     "output_type": "stream",
     "text": [
      "08 05 2005\n",
      "['Monday', 'Tuesday', 'Wednesday', 'Thursday', 'Friday', 'Saturday', 'Sunday']\n",
      "FRIDAY\n"
     ]
    }
   ],
   "source": [
    "import calendar\n",
    "entry_date = list(input().split())\n",
    "m = int(entry_date[0])\n",
    "d = int(entry_date[1])\n",
    "y = int(entry_date[2])\n",
    "\n",
    "print(list(calendar.day_name)[calendar.weekday(y, m, d)].upper())"
   ]
  },
  {
   "cell_type": "code",
   "execution_count": null,
   "metadata": {},
   "outputs": [],
   "source": [
    "### 2.The first line contains , the number of testcases.Each testcase contains  lines, representing time  and timezone ."
   ]
  },
  {
   "cell_type": "code",
   "execution_count": 18,
   "metadata": {},
   "outputs": [],
   "source": [
    "from datetime import datetime as dt\n",
    "def time_delta(t1, t2):\n",
    "    fmt = '%a %d %b %Y %H:%M:%S %z'\n",
    "    d1 = dt.strptime(t1,fmt)\n",
    "    d2 = dt.strptime(t2,fmt)\n",
    "    print(int((d1-d2).total_seconds()))"
   ]
  },
  {
   "cell_type": "code",
   "execution_count": 19,
   "metadata": {},
   "outputs": [
    {
     "name": "stdout",
     "output_type": "stream",
     "text": [
      "25200\n"
     ]
    }
   ],
   "source": [
    "t1 = 'Sun 10 May 2015 13:54:36 -0700'\n",
    "t2 = 'Sun 10 May 2015 13:54:36 -0000'\n",
    "time_delta(t1, t2)"
   ]
  },
  {
   "cell_type": "code",
   "execution_count": null,
   "metadata": {},
   "outputs": [],
   "source": []
  }
 ],
 "metadata": {
  "kernelspec": {
   "display_name": "Python 3",
   "language": "python",
   "name": "python3"
  },
  "language_info": {
   "codemirror_mode": {
    "name": "ipython",
    "version": 3
   },
   "file_extension": ".py",
   "mimetype": "text/x-python",
   "name": "python",
   "nbconvert_exporter": "python",
   "pygments_lexer": "ipython3",
   "version": "3.7.1"
  }
 },
 "nbformat": 4,
 "nbformat_minor": 2
}
