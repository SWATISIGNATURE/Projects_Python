{
 "cells": [
  {
   "cell_type": "markdown",
   "metadata": {},
   "source": [
    "### 1.The first line contains , the number of shoes.The second line contains the space separated list of all the shoe sizes in the shop.The third line contains , the number of customers.The next  lines contain the space separated values of the  desired by the customer and , the price of the shoe.\n",
    "input_format:  \n",
    "### 10\n",
    "### 2 3 4 5 6 8 7 6 5 18\n",
    "### 6\n",
    "6 55,\n",
    "6 45,\n",
    "6 55,\n",
    "4 40,\n",
    "18 60,\n",
    "10 50"
   ]
  },
  {
   "cell_type": "code",
   "execution_count": 6,
   "metadata": {},
   "outputs": [
    {
     "name": "stdout",
     "output_type": "stream",
     "text": [
      "10\n",
      "2 3 4 5 6 8 7 6 5 18\n",
      "6\n",
      "6 55\n",
      "6 45\n",
      "6 55\n",
      "4 40\n",
      "18 60\n",
      "10 50\n",
      "200\n"
     ]
    }
   ],
   "source": [
    "num_shoes = int(input())\n",
    "shoe_sizes = map(int, input().split())\n",
    "num_cust = int(input())\n",
    "\n",
    "from collections import Counter\n",
    "c = Counter(shoe_sizes)\n",
    "#print(c)\n",
    "total = 0\n",
    "for i in range(num_cust):\n",
    "    size, pay = map(int, input().split())\n",
    "    if size in c and c[size] >=1:\n",
    "        total += pay\n",
    "        c[size] -= 1\n",
    "print(total)\n",
    "        \n",
    "    \n"
   ]
  },
  {
   "cell_type": "code",
   "execution_count": null,
   "metadata": {},
   "outputs": [],
   "source": [
    "### 2."
   ]
  }
 ],
 "metadata": {
  "kernelspec": {
   "display_name": "Python 3",
   "language": "python",
   "name": "python3"
  },
  "language_info": {
   "codemirror_mode": {
    "name": "ipython",
    "version": 3
   },
   "file_extension": ".py",
   "mimetype": "text/x-python",
   "name": "python",
   "nbconvert_exporter": "python",
   "pygments_lexer": "ipython3",
   "version": "3.7.1"
  }
 },
 "nbformat": 4,
 "nbformat_minor": 2
}
